{
 "cells": [
  {
   "cell_type": "markdown",
   "metadata": {},
   "source": [
    "# DATA PROCESSING\n",
    "* Cleaning & preprocessing data.\n",
    "* Performing EDA"
   ]
  },
  {
   "cell_type": "markdown",
   "metadata": {},
   "source": [
    "## Initialization"
   ]
  },
  {
   "cell_type": "code",
   "execution_count": null,
   "metadata": {},
   "outputs": [],
   "source": [
    "# imports\n",
    "import sqlalchemy as sa\n",
    "import pandas as pd\n",
    "import numpy as np\n",
    "import matplotlib.pyplot as plt\n",
    "from phpserialize import unserialize\n",
    "from cleantext import clean\n",
    "import hazm\n",
    "import re\n",
    "from matplotlib import style\n",
    "import plotly.graph_objects as go\n",
    "from cleaning_utils import clear_stop_char, replace_arabic_char\n",
    "\n",
    "style.use(\"ggplot\")"
   ]
  },
  {
   "cell_type": "code",
   "execution_count": 5,
   "metadata": {},
   "outputs": [],
   "source": [
    "# Database connection\n",
    "username = \"root\"\n",
    "password = \"rootpass\"\n",
    "host = \"127.0.0.1\"\n",
    "port = 8081\n",
    "db = \"comment\"\n",
    "ch = \"utf8\"\n",
    "db_engine = sa.create_engine(\n",
    "    f\"mysql://{username}:{password}@{host}:{port}/{db}?charset={ch}\"\n",
    ")\n",
    "conn = db_engine.connect()"
   ]
  },
  {
   "cell_type": "markdown",
   "metadata": {},
   "source": [
    "## Data Fetching"
   ]
  },
  {
   "cell_type": "code",
   "execution_count": 6,
   "metadata": {},
   "outputs": [
    {
     "name": "stdout",
     "output_type": "stream",
     "text": [
      "(1571618, 15)\n"
     ]
    },
    {
     "data": {
      "text/html": [
       "<div>\n",
       "<style scoped>\n",
       "    .dataframe tbody tr th:only-of-type {\n",
       "        vertical-align: middle;\n",
       "    }\n",
       "\n",
       "    .dataframe tbody tr th {\n",
       "        vertical-align: top;\n",
       "    }\n",
       "\n",
       "    .dataframe thead th {\n",
       "        text-align: right;\n",
       "    }\n",
       "</style>\n",
       "<table border=\"1\" class=\"dataframe\">\n",
       "  <thead>\n",
       "    <tr style=\"text-align: right;\">\n",
       "      <th></th>\n",
       "      <th>_id</th>\n",
       "      <th>id</th>\n",
       "      <th>lang</th>\n",
       "      <th>parent_id</th>\n",
       "      <th>options</th>\n",
       "      <th>model</th>\n",
       "      <th>category_id</th>\n",
       "      <th>master_id</th>\n",
       "      <th>object_master_id</th>\n",
       "      <th>creation</th>\n",
       "      <th>modification</th>\n",
       "      <th>user_id</th>\n",
       "      <th>published_by</th>\n",
       "      <th>unpublished_by</th>\n",
       "      <th>comment_data</th>\n",
       "    </tr>\n",
       "  </thead>\n",
       "  <tbody>\n",
       "    <tr>\n",
       "      <th>0</th>\n",
       "      <td>1</td>\n",
       "      <td>813597</td>\n",
       "      <td>b'fa'</td>\n",
       "      <td>NaN</td>\n",
       "      <td>3</td>\n",
       "      <td>8</td>\n",
       "      <td>145</td>\n",
       "      <td>2211391</td>\n",
       "      <td>2210271</td>\n",
       "      <td>2022-05-04 14:11:57</td>\n",
       "      <td>2022-05-04 14:24:03</td>\n",
       "      <td>NaN</td>\n",
       "      <td>5.0</td>\n",
       "      <td>NaN</td>\n",
       "      <td>b'a:4:{s:5:\"email\";N;s:7:\"message\";s:172:\" \\xd...</td>\n",
       "    </tr>\n",
       "    <tr>\n",
       "      <th>1</th>\n",
       "      <td>2</td>\n",
       "      <td>813598</td>\n",
       "      <td>b'fa'</td>\n",
       "      <td>NaN</td>\n",
       "      <td>3</td>\n",
       "      <td>8</td>\n",
       "      <td>145</td>\n",
       "      <td>2211392</td>\n",
       "      <td>2211048</td>\n",
       "      <td>2022-05-04 14:12:07</td>\n",
       "      <td>2022-05-04 14:24:01</td>\n",
       "      <td>NaN</td>\n",
       "      <td>5.0</td>\n",
       "      <td>NaN</td>\n",
       "      <td>b'a:4:{s:5:\"email\";N;s:7:\"message\";s:37:\"\\xd8\\...</td>\n",
       "    </tr>\n",
       "    <tr>\n",
       "      <th>2</th>\n",
       "      <td>3</td>\n",
       "      <td>813599</td>\n",
       "      <td>b'fa'</td>\n",
       "      <td>NaN</td>\n",
       "      <td>2</td>\n",
       "      <td>8</td>\n",
       "      <td>59</td>\n",
       "      <td>2211393</td>\n",
       "      <td>2210918</td>\n",
       "      <td>2022-05-04 14:13:12</td>\n",
       "      <td>2022-05-04 14:23:57</td>\n",
       "      <td>NaN</td>\n",
       "      <td>5.0</td>\n",
       "      <td>5.0</td>\n",
       "      <td>b'a:4:{s:5:\"email\";N;s:7:\"message\";s:138:\" \\xd...</td>\n",
       "    </tr>\n",
       "  </tbody>\n",
       "</table>\n",
       "</div>"
      ],
      "text/plain": [
       "   _id      id   lang  parent_id  options  model  category_id  master_id  \\\n",
       "0    1  813597  b'fa'        NaN        3      8          145    2211391   \n",
       "1    2  813598  b'fa'        NaN        3      8          145    2211392   \n",
       "2    3  813599  b'fa'        NaN        2      8           59    2211393   \n",
       "\n",
       "   object_master_id            creation        modification  user_id  \\\n",
       "0           2210271 2022-05-04 14:11:57 2022-05-04 14:24:03      NaN   \n",
       "1           2211048 2022-05-04 14:12:07 2022-05-04 14:24:01      NaN   \n",
       "2           2210918 2022-05-04 14:13:12 2022-05-04 14:23:57      NaN   \n",
       "\n",
       "   published_by  unpublished_by  \\\n",
       "0           5.0             NaN   \n",
       "1           5.0             NaN   \n",
       "2           5.0             5.0   \n",
       "\n",
       "                                        comment_data  \n",
       "0  b'a:4:{s:5:\"email\";N;s:7:\"message\";s:172:\" \\xd...  \n",
       "1  b'a:4:{s:5:\"email\";N;s:7:\"message\";s:37:\"\\xd8\\...  \n",
       "2  b'a:4:{s:5:\"email\";N;s:7:\"message\";s:138:\" \\xd...  "
      ]
     },
     "execution_count": 6,
     "metadata": {},
     "output_type": "execute_result"
    }
   ],
   "source": [
    "query = \"select * from comments\"\n",
    "comment_df = pd.read_sql_query(query, conn)\n",
    "print(comment_df.shape)\n",
    "comment_df.head(3)"
   ]
  },
  {
   "cell_type": "markdown",
   "metadata": {},
   "source": [
    "## Cleaning"
   ]
  },
  {
   "cell_type": "markdown",
   "metadata": {},
   "source": [
    "### Unserializing the comments"
   ]
  },
  {
   "cell_type": "code",
   "execution_count": 7,
   "metadata": {},
   "outputs": [],
   "source": [
    "def unserialize_func(blob):\n",
    "    unserialized_blob = unserialize(blob)\n",
    "    comment = unserialized_blob[b\"message\"].decode(\"utf-8\")\n",
    "    return comment"
   ]
  },
  {
   "cell_type": "code",
   "execution_count": 8,
   "metadata": {},
   "outputs": [
    {
     "name": "stdout",
     "output_type": "stream",
     "text": [
      "Failed unserializing 50 comments\n"
     ]
    },
    {
     "data": {
      "text/html": [
       "<div>\n",
       "<style scoped>\n",
       "    .dataframe tbody tr th:only-of-type {\n",
       "        vertical-align: middle;\n",
       "    }\n",
       "\n",
       "    .dataframe tbody tr th {\n",
       "        vertical-align: top;\n",
       "    }\n",
       "\n",
       "    .dataframe thead th {\n",
       "        text-align: right;\n",
       "    }\n",
       "</style>\n",
       "<table border=\"1\" class=\"dataframe\">\n",
       "  <thead>\n",
       "    <tr style=\"text-align: right;\">\n",
       "      <th></th>\n",
       "      <th>_id</th>\n",
       "      <th>id</th>\n",
       "      <th>lang</th>\n",
       "      <th>parent_id</th>\n",
       "      <th>options</th>\n",
       "      <th>model</th>\n",
       "      <th>category_id</th>\n",
       "      <th>master_id</th>\n",
       "      <th>object_master_id</th>\n",
       "      <th>creation</th>\n",
       "      <th>modification</th>\n",
       "      <th>user_id</th>\n",
       "      <th>published_by</th>\n",
       "      <th>unpublished_by</th>\n",
       "      <th>comment_data</th>\n",
       "    </tr>\n",
       "  </thead>\n",
       "  <tbody>\n",
       "    <tr>\n",
       "      <th>0</th>\n",
       "      <td>1</td>\n",
       "      <td>813597</td>\n",
       "      <td>b'fa'</td>\n",
       "      <td>NaN</td>\n",
       "      <td>3</td>\n",
       "      <td>8</td>\n",
       "      <td>145</td>\n",
       "      <td>2211391</td>\n",
       "      <td>2210271</td>\n",
       "      <td>2022-05-04 14:11:57</td>\n",
       "      <td>2022-05-04 14:24:03</td>\n",
       "      <td>NaN</td>\n",
       "      <td>5.0</td>\n",
       "      <td>NaN</td>\n",
       "      <td>تا نباشد چوبتر فرمان نبرد گاو وخر  این ضرب‌ال...</td>\n",
       "    </tr>\n",
       "    <tr>\n",
       "      <th>1</th>\n",
       "      <td>2</td>\n",
       "      <td>813598</td>\n",
       "      <td>b'fa'</td>\n",
       "      <td>NaN</td>\n",
       "      <td>3</td>\n",
       "      <td>8</td>\n",
       "      <td>145</td>\n",
       "      <td>2211392</td>\n",
       "      <td>2211048</td>\n",
       "      <td>2022-05-04 14:12:07</td>\n",
       "      <td>2022-05-04 14:24:01</td>\n",
       "      <td>NaN</td>\n",
       "      <td>5.0</td>\n",
       "      <td>NaN</td>\n",
       "      <td>دولتی شش کلاسی همینه</td>\n",
       "    </tr>\n",
       "    <tr>\n",
       "      <th>2</th>\n",
       "      <td>3</td>\n",
       "      <td>813599</td>\n",
       "      <td>b'fa'</td>\n",
       "      <td>NaN</td>\n",
       "      <td>2</td>\n",
       "      <td>8</td>\n",
       "      <td>59</td>\n",
       "      <td>2211393</td>\n",
       "      <td>2210918</td>\n",
       "      <td>2022-05-04 14:13:12</td>\n",
       "      <td>2022-05-04 14:23:57</td>\n",
       "      <td>NaN</td>\n",
       "      <td>5.0</td>\n",
       "      <td>5.0</td>\n",
       "      <td>اگر بی حجابی علت گرانی بود پس چرا در زمان حکو...</td>\n",
       "    </tr>\n",
       "  </tbody>\n",
       "</table>\n",
       "</div>"
      ],
      "text/plain": [
       "   _id      id   lang  parent_id  options  model  category_id  master_id  \\\n",
       "0    1  813597  b'fa'        NaN        3      8          145    2211391   \n",
       "1    2  813598  b'fa'        NaN        3      8          145    2211392   \n",
       "2    3  813599  b'fa'        NaN        2      8           59    2211393   \n",
       "\n",
       "   object_master_id            creation        modification  user_id  \\\n",
       "0           2210271 2022-05-04 14:11:57 2022-05-04 14:24:03      NaN   \n",
       "1           2211048 2022-05-04 14:12:07 2022-05-04 14:24:01      NaN   \n",
       "2           2210918 2022-05-04 14:13:12 2022-05-04 14:23:57      NaN   \n",
       "\n",
       "   published_by  unpublished_by  \\\n",
       "0           5.0             NaN   \n",
       "1           5.0             NaN   \n",
       "2           5.0             5.0   \n",
       "\n",
       "                                        comment_data  \n",
       "0   تا نباشد چوبتر فرمان نبرد گاو وخر  این ضرب‌ال...  \n",
       "1                               دولتی شش کلاسی همینه  \n",
       "2   اگر بی حجابی علت گرانی بود پس چرا در زمان حکو...  "
      ]
     },
     "execution_count": 8,
     "metadata": {},
     "output_type": "execute_result"
    }
   ],
   "source": [
    "failed_counter = 0\n",
    "for idx, row in comment_df.iterrows():\n",
    "    try:\n",
    "        comment_blob = row[\"comment_data\"]\n",
    "        comment = unserialize_func(comment_blob)\n",
    "        comment_df.loc[idx,\"comment_data\"] = comment\n",
    "    except Exception:\n",
    "        failed_counter += 1    \n",
    "print(f\"Failed unserializing {failed_counter} comments\")\n",
    "comment_df = comment_df.drop_duplicates()\n",
    "comment_df.head(3)"
   ]
  },
  {
   "cell_type": "markdown",
   "metadata": {},
   "source": [
    "### Cleaning comments"
   ]
  },
  {
   "cell_type": "code",
   "execution_count": 9,
   "metadata": {},
   "outputs": [],
   "source": [
    "# Defining cleaner functions\n",
    "def cleaning(text):\n",
    "    text = text.strip()\n",
    "    \n",
    "    # regular cleaning\n",
    "    text = clean(text,\n",
    "        fix_unicode=True,\n",
    "        to_ascii=False,\n",
    "        lower=True,\n",
    "        no_line_breaks=True,\n",
    "        no_urls=True,\n",
    "        no_emails=True,\n",
    "        no_phone_numbers=True,\n",
    "        no_numbers=False,\n",
    "        no_digits=False,\n",
    "        no_currency_symbols=True,\n",
    "        no_punct=False,\n",
    "        replace_with_url=\"\",\n",
    "        replace_with_email=\"\",\n",
    "        replace_with_phone_number=\"\",\n",
    "        replace_with_number=\"\",\n",
    "        replace_with_digit=\"0\",\n",
    "        replace_with_currency_symbol=\"\",\n",
    "    )\n",
    "    \n",
    "    # normalizing\n",
    "    normalizer = hazm.Normalizer()\n",
    "    text = normalizer.normalize(text)\n",
    "    \n",
    "    # removing wierd patterns\n",
    "    wierd_pattern = re.compile(\"[\"\n",
    "        u\"\\U0001F600-\\U0001F64F\"  # emoticons\n",
    "        u\"\\U0001F300-\\U0001F5FF\"  # symbols & pictographs\n",
    "        u\"\\U0001F680-\\U0001F6FF\"  # transport & map symbols\n",
    "        u\"\\U0001F1E0-\\U0001F1FF\"  # flags (iOS)\n",
    "        u\"\\U00002702-\\U000027B0\"\n",
    "        u\"\\U000024C2-\\U0001F251\"\n",
    "        u\"\\U0001f926-\\U0001f937\"\n",
    "        u'\\U00010000-\\U0010ffff'\n",
    "        u\"\\u200d\"\n",
    "        u\"\\u2640-\\u2642\"\n",
    "        u\"\\u2600-\\u2B55\"\n",
    "        u\"\\u23cf\"\n",
    "        u\"\\u23e9\"\n",
    "        u\"\\u231a\"\n",
    "        u\"\\u3030\"\n",
    "        u\"\\ufe0f\"\n",
    "        u\"\\u2069\"\n",
    "        u\"\\u2066\"\n",
    "        # u\"\\u200c\"\n",
    "        u\"\\u2068\"\n",
    "        u\"\\u2067\"\n",
    "        u\"#\"\n",
    "        u\"?\"\n",
    "        u\"؟\"\n",
    "        u\".\"\n",
    "        u\"…\"\n",
    "        \"]+\", flags=re.UNICODE)\n",
    "    \n",
    "    text = wierd_pattern.sub(r' ', text)\n",
    "\n",
    "    # Removing stop characters\n",
    "    text = clear_stop_char(text)\n",
    "\n",
    "    # Replacing arabic characters\n",
    "    text = replace_arabic_char(text)\n",
    "\n",
    "    # Removing repeating characters\n",
    "    text = re.sub(r'(.)\\1{2,}', r'\\1', text)\n",
    "    \n",
    "    # removing extra spaces, hashtags\n",
    "    text = re.sub(\"\\s+\", \" \", text)\n",
    "    \n",
    "    return text\n"
   ]
  },
  {
   "cell_type": "code",
   "execution_count": 10,
   "metadata": {},
   "outputs": [
    {
     "name": "stdout",
     "output_type": "stream",
     "text": [
      "144939 duplicate records removed.\n"
     ]
    },
    {
     "data": {
      "text/html": [
       "<div>\n",
       "<style scoped>\n",
       "    .dataframe tbody tr th:only-of-type {\n",
       "        vertical-align: middle;\n",
       "    }\n",
       "\n",
       "    .dataframe tbody tr th {\n",
       "        vertical-align: top;\n",
       "    }\n",
       "\n",
       "    .dataframe thead th {\n",
       "        text-align: right;\n",
       "    }\n",
       "</style>\n",
       "<table border=\"1\" class=\"dataframe\">\n",
       "  <thead>\n",
       "    <tr style=\"text-align: right;\">\n",
       "      <th></th>\n",
       "      <th>cleaned_comment</th>\n",
       "      <th>published_by</th>\n",
       "      <th>unpublished_by</th>\n",
       "    </tr>\n",
       "  </thead>\n",
       "  <tbody>\n",
       "    <tr>\n",
       "      <th>0</th>\n",
       "      <td>تا نباشد چوبتر فرمان نبرد گاو وخر این ضرب المث...</td>\n",
       "      <td>5.0</td>\n",
       "      <td>NaN</td>\n",
       "    </tr>\n",
       "    <tr>\n",
       "      <th>1</th>\n",
       "      <td>دولتی شش کلاسی همینه</td>\n",
       "      <td>5.0</td>\n",
       "      <td>NaN</td>\n",
       "    </tr>\n",
       "    <tr>\n",
       "      <th>2</th>\n",
       "      <td>اگر بی حجابی علت گرانی بود پس چرا در زمان حکوم...</td>\n",
       "      <td>5.0</td>\n",
       "      <td>5.0</td>\n",
       "    </tr>\n",
       "  </tbody>\n",
       "</table>\n",
       "</div>"
      ],
      "text/plain": [
       "                                     cleaned_comment  published_by  \\\n",
       "0  تا نباشد چوبتر فرمان نبرد گاو وخر این ضرب المث...           5.0   \n",
       "1                               دولتی شش کلاسی همینه           5.0   \n",
       "2  اگر بی حجابی علت گرانی بود پس چرا در زمان حکوم...           5.0   \n",
       "\n",
       "   unpublished_by  \n",
       "0             NaN  \n",
       "1             NaN  \n",
       "2             5.0  "
      ]
     },
     "execution_count": 10,
     "metadata": {},
     "output_type": "execute_result"
    }
   ],
   "source": [
    "# Cleaning\n",
    "comment_df[\"cleaned_comment\"] = comment_df[\"comment_data\"].apply(cleaning)\n",
    "\n",
    "# removing unnecessary columns\n",
    "comment_df = comment_df[[\"cleaned_comment\",\"published_by\",\"unpublished_by\"]].reset_index(drop=True)\n",
    "\n",
    "# Removing empty string and splace comments\n",
    "comment_df = comment_df[comment_df[\"cleaned_comment\"]!= \"\"]\n",
    "comment_df = comment_df[comment_df[\"cleaned_comment\"]!= \" \"]\n",
    "\n",
    "# Dropping duplicate columns\n",
    "before_drop_length = len(comment_df)\n",
    "comment_df = comment_df.drop_duplicates()\n",
    "print(f\"{before_drop_length - len(comment_df)} duplicate records removed.\")\n",
    "comment_df.head(3)"
   ]
  },
  {
   "cell_type": "markdown",
   "metadata": {},
   "source": [
    "## Preprocessing"
   ]
  },
  {
   "cell_type": "markdown",
   "metadata": {},
   "source": [
    "### Generating status of the comment"
   ]
  },
  {
   "cell_type": "code",
   "execution_count": null,
   "metadata": {},
   "outputs": [],
   "source": [
    "# Comments status\n",
    "# The likely statuses are \"not-reviewd\", \"rejected\", \"published\"\n",
    "not_reviewed = len(comment_df[comment_df[\"published_by\"].isnull() & comment_df[\"unpublished_by\"].isnull()])\n",
    "rejected = len(comment_df[comment_df[\"published_by\"].notnull() & comment_df[\"unpublished_by\"].notnull()])\n",
    "published = len(comment_df[comment_df[\"published_by\"].notnull() & comment_df[\"unpublished_by\"].isnull()])\n",
    "\n",
    "# Showing the dist\n",
    "fig = plt.figure(figsize=(16, 10))\n",
    "plt.title(\"Comments Status\")\n",
    "plt.bar([\"not reviewed\", \"rejected\", \"published\"],height=[not_reviewed, rejected, published],color = [\"gray\", \"#DC143C\", \"cyan\"])\n",
    "plt.yticks()\n",
    "plt.yticks()\n",
    "plt.show()"
   ]
  },
  {
   "cell_type": "code",
   "execution_count": null,
   "metadata": {},
   "outputs": [],
   "source": [
    "# Rejected ration to published and whole\n",
    "print(f\"Ratio of rejected comments to whole: {(rejected / len(comment_df)) * 100}\")\n",
    "print(f\"Ratio of rejected comments to published comments: {(rejected / published) * 100}\")\n"
   ]
  },
  {
   "cell_type": "code",
   "execution_count": 11,
   "metadata": {},
   "outputs": [],
   "source": [
    "# Changing status\n",
    "comment_df.loc[comment_df[\"published_by\"].isnull() & comment_df[\"unpublished_by\"].isnull(), \"status\"] = \"not_reviewed\"\n",
    "comment_df.loc[comment_df[\"published_by\"].notnull() & comment_df[\"unpublished_by\"].notnull(), \"status\"] = \"rejected\"\n",
    "comment_df.loc[comment_df[\"published_by\"].notnull() & comment_df[\"unpublished_by\"].isnull(), \"status\"] = \"published\"\n",
    "\n",
    "# Removing not_reviewed comments\n",
    "print(f\"Total records before removing not reviewed comments: {len(comment_df)}\")\n",
    "comment_df = comment_df[comment_df[\"status\"]!=\"not_reviewed\"]\n",
    "print(f\"Total records after removing not reviewed comments: {len(comment_df)}\")\n"
   ]
  },
  {
   "cell_type": "code",
   "execution_count": 14,
   "metadata": {},
   "outputs": [
    {
     "data": {
      "text/html": [
       "<div>\n",
       "<style scoped>\n",
       "    .dataframe tbody tr th:only-of-type {\n",
       "        vertical-align: middle;\n",
       "    }\n",
       "\n",
       "    .dataframe tbody tr th {\n",
       "        vertical-align: top;\n",
       "    }\n",
       "\n",
       "    .dataframe thead th {\n",
       "        text-align: right;\n",
       "    }\n",
       "</style>\n",
       "<table border=\"1\" class=\"dataframe\">\n",
       "  <thead>\n",
       "    <tr style=\"text-align: right;\">\n",
       "      <th></th>\n",
       "      <th>cleaned_comment</th>\n",
       "      <th>status</th>\n",
       "    </tr>\n",
       "  </thead>\n",
       "  <tbody>\n",
       "    <tr>\n",
       "      <th>0</th>\n",
       "      <td>تا نباشد چوبتر فرمان نبرد گاو وخر این ضرب المث...</td>\n",
       "      <td>published</td>\n",
       "    </tr>\n",
       "    <tr>\n",
       "      <th>1</th>\n",
       "      <td>دولتی شش کلاسی همینه</td>\n",
       "      <td>published</td>\n",
       "    </tr>\n",
       "    <tr>\n",
       "      <th>2</th>\n",
       "      <td>اگر بی حجابی علت گرانی بود پس چرا در زمان حکوم...</td>\n",
       "      <td>rejected</td>\n",
       "    </tr>\n",
       "    <tr>\n",
       "      <th>3</th>\n",
       "      <td>خاک تو سرتون کنند که فقط ادعا دارید نه سواد و ...</td>\n",
       "      <td>published</td>\n",
       "    </tr>\n",
       "    <tr>\n",
       "      <th>4</th>\n",
       "      <td>دولت با 200 میلیون کردن قیمت پراید و دو تا سه ...</td>\n",
       "      <td>published</td>\n",
       "    </tr>\n",
       "  </tbody>\n",
       "</table>\n",
       "</div>"
      ],
      "text/plain": [
       "                                     cleaned_comment     status\n",
       "0  تا نباشد چوبتر فرمان نبرد گاو وخر این ضرب المث...  published\n",
       "1                               دولتی شش کلاسی همینه  published\n",
       "2  اگر بی حجابی علت گرانی بود پس چرا در زمان حکوم...   rejected\n",
       "3  خاک تو سرتون کنند که فقط ادعا دارید نه سواد و ...  published\n",
       "4  دولت با 200 میلیون کردن قیمت پراید و دو تا سه ...  published"
      ]
     },
     "execution_count": 14,
     "metadata": {},
     "output_type": "execute_result"
    }
   ],
   "source": [
    "# Removing unnecessary columns\n",
    "comment_df = comment_df[[\"cleaned_comment\", \"status\"]].reset_index(drop=True)\n",
    "comment_df.head()"
   ]
  },
  {
   "cell_type": "code",
   "execution_count": null,
   "metadata": {},
   "outputs": [],
   "source": [
    "# Adding status code\n",
    "comment_df[\"status_code\"] = comment_df[\"status\"].apply(lambda x: 1 if x == \"published\" else 0)\n",
    "comment_df.head(3)\n"
   ]
  },
  {
   "cell_type": "markdown",
   "metadata": {},
   "source": [
    "### Best word length interval"
   ]
  },
  {
   "cell_type": "code",
   "execution_count": 16,
   "metadata": {},
   "outputs": [
    {
     "data": {
      "text/html": [
       "<div>\n",
       "<style scoped>\n",
       "    .dataframe tbody tr th:only-of-type {\n",
       "        vertical-align: middle;\n",
       "    }\n",
       "\n",
       "    .dataframe tbody tr th {\n",
       "        vertical-align: top;\n",
       "    }\n",
       "\n",
       "    .dataframe thead th {\n",
       "        text-align: right;\n",
       "    }\n",
       "</style>\n",
       "<table border=\"1\" class=\"dataframe\">\n",
       "  <thead>\n",
       "    <tr style=\"text-align: right;\">\n",
       "      <th></th>\n",
       "      <th>cleaned_comment</th>\n",
       "      <th>status</th>\n",
       "      <th>comment_len_by_words</th>\n",
       "    </tr>\n",
       "  </thead>\n",
       "  <tbody>\n",
       "    <tr>\n",
       "      <th>0</th>\n",
       "      <td>تا نباشد چوبتر فرمان نبرد گاو وخر این ضرب المث...</td>\n",
       "      <td>published</td>\n",
       "      <td>20</td>\n",
       "    </tr>\n",
       "    <tr>\n",
       "      <th>1</th>\n",
       "      <td>دولتی شش کلاسی همینه</td>\n",
       "      <td>published</td>\n",
       "      <td>4</td>\n",
       "    </tr>\n",
       "    <tr>\n",
       "      <th>2</th>\n",
       "      <td>اگر بی حجابی علت گرانی بود پس چرا در زمان حکوم...</td>\n",
       "      <td>rejected</td>\n",
       "      <td>16</td>\n",
       "    </tr>\n",
       "    <tr>\n",
       "      <th>3</th>\n",
       "      <td>خاک تو سرتون کنند که فقط ادعا دارید نه سواد و ...</td>\n",
       "      <td>published</td>\n",
       "      <td>21</td>\n",
       "    </tr>\n",
       "    <tr>\n",
       "      <th>4</th>\n",
       "      <td>دولت با 200 میلیون کردن قیمت پراید و دو تا سه ...</td>\n",
       "      <td>published</td>\n",
       "      <td>37</td>\n",
       "    </tr>\n",
       "  </tbody>\n",
       "</table>\n",
       "</div>"
      ],
      "text/plain": [
       "                                     cleaned_comment     status  \\\n",
       "0  تا نباشد چوبتر فرمان نبرد گاو وخر این ضرب المث...  published   \n",
       "1                               دولتی شش کلاسی همینه  published   \n",
       "2  اگر بی حجابی علت گرانی بود پس چرا در زمان حکوم...   rejected   \n",
       "3  خاک تو سرتون کنند که فقط ادعا دارید نه سواد و ...  published   \n",
       "4  دولت با 200 میلیون کردن قیمت پراید و دو تا سه ...  published   \n",
       "\n",
       "   comment_len_by_words  \n",
       "0                    20  \n",
       "1                     4  \n",
       "2                    16  \n",
       "3                    21  \n",
       "4                    37  "
      ]
     },
     "execution_count": 16,
     "metadata": {},
     "output_type": "execute_result"
    }
   ],
   "source": [
    "comment_df['comment_len_by_words'] = comment_df['cleaned_comment'].apply(lambda t: len(hazm.word_tokenize(t)))\n",
    "comment_df.head()"
   ]
  },
  {
   "cell_type": "code",
   "execution_count": null,
   "metadata": {},
   "outputs": [],
   "source": [
    "min_max_len = comment_df[\"comment_len_by_words\"].min(), comment_df[\"comment_len_by_words\"].max()\n",
    "print(f'Min: {min_max_len[0]} \\tMax: {min_max_len[1]}')"
   ]
  },
  {
   "cell_type": "code",
   "execution_count": null,
   "metadata": {},
   "outputs": [],
   "source": [
    "def data_gl_than(data, less_than=100.0, greater_than=0.0, col='comment_len_by_words'):\n",
    "    data_length = data[col].values\n",
    "\n",
    "    data_glt = sum([1 for length in data_length if greater_than < length <= less_than])\n",
    "\n",
    "    data_glt_rate = (data_glt / len(data_length)) * 100\n",
    "\n",
    "    print(f'Texts with word length of greater than {greater_than} and less than {less_than} includes {data_glt_rate:.2f}% of the whole!')\n",
    "    return data_glt_rate"
   ]
  },
  {
   "cell_type": "code",
   "execution_count": null,
   "metadata": {},
   "outputs": [],
   "source": [
    "data_gl_than(comment_df,100,3)"
   ]
  },
  {
   "cell_type": "code",
   "execution_count": null,
   "metadata": {},
   "outputs": [],
   "source": [
    "fig = plt.figure(figsize=(16, 10))\n",
    "coverage = [None]\n",
    "for i in range(2, 301):\n",
    "    coverage.append(data_gl_than(comment_df,i,1))\n",
    "\n",
    "plt.plot(coverage)\n",
    "plt.xticks(range(0, 300, 20))\n",
    "plt.yticks(range(0, 105, 5))\n",
    "plt.show()"
   ]
  },
  {
   "cell_type": "code",
   "execution_count": null,
   "metadata": {},
   "outputs": [],
   "source": [
    "fig = plt.figure(figsize=(16, 10))\n",
    "coverage_begin = [None]\n",
    "\n",
    "for i in range(1, 11):\n",
    "    coverage_begin.append(data_gl_than(comment_df,100,i))\n",
    "    \n",
    "plt.plot(coverage_begin, color='cyan')\n",
    "plt.xticks(range(1, 11, 1))\n",
    "plt.yticks(range(0, 105, 5))\n",
    "plt.show()"
   ]
  },
  {
   "cell_type": "markdown",
   "metadata": {},
   "source": [
    "* Comments that have word count between `3` and `100` cover `91%` of the data"
   ]
  },
  {
   "cell_type": "code",
   "execution_count": 17,
   "metadata": {},
   "outputs": [],
   "source": [
    "minlim, maxlim = 3, 100\n",
    "# remove comments with the length of fewer than three words and longer than 100 words\n",
    "comment_df['comment_len_by_words'] = comment_df['comment_len_by_words'].apply(lambda len_t: len_t if minlim <= len_t <= maxlim else None)\n",
    "comment_df = comment_df.dropna(subset=['comment_len_by_words'])\n",
    "comment_df = comment_df.reset_index(drop=True)"
   ]
  },
  {
   "cell_type": "code",
   "execution_count": null,
   "metadata": {},
   "outputs": [],
   "source": [
    "fig = go.Figure()\n",
    "\n",
    "fig.add_trace(go.Histogram(\n",
    "    x=comment_df['comment_len_by_words']\n",
    "))\n",
    "\n",
    "fig.update_layout(\n",
    "    title_text='Distribution of word counts within comments',\n",
    "    xaxis_title_text='Word Count',\n",
    "    yaxis_title_text='Frequency',\n",
    "    bargap=0.2,\n",
    "    bargroupgap=0.2)\n",
    "\n",
    "fig.show()"
   ]
  },
  {
   "cell_type": "markdown",
   "metadata": {},
   "source": [
    "### Handling unbalanced data"
   ]
  },
  {
   "cell_type": "code",
   "execution_count": null,
   "metadata": {},
   "outputs": [],
   "source": [
    "fig = go.Figure()\n",
    "\n",
    "groupby_label = comment_df.groupby('status')['status'].count()\n",
    "\n",
    "fig.add_trace(go.Bar(\n",
    "    x=list(sorted(groupby_label.index)),\n",
    "    y=groupby_label.tolist(),\n",
    "    text=groupby_label.tolist(),\n",
    "    textposition='auto'\n",
    "))\n",
    "\n",
    "fig.update_layout(\n",
    "    title_text='Distribution of status within comments [DATA]',\n",
    "    xaxis_title_text='Status',\n",
    "    yaxis_title_text='Frequency',\n",
    "    bargap=0.2,\n",
    "    bargroupgap=0.2)\n",
    "\n",
    "fig.show()"
   ]
  },
  {
   "cell_type": "code",
   "execution_count": null,
   "metadata": {},
   "outputs": [],
   "source": [
    "# Selecting random number of published records\n",
    "rejected_data = comment_df[comment_df['status_code'] == 0]\n",
    "published_data = comment_df[comment_df['status_code'] == 1]\n",
    "\n",
    "published_data = published_data.sample(n=len(rejected_data)).reset_index(drop=True)\n",
    "\n",
    "new_data = pd.concat([published_data, rejected_data])\n",
    "new_data = new_data.sample(frac=1).reset_index(drop=True)\n",
    "new_data.info()"
   ]
  },
  {
   "cell_type": "code",
   "execution_count": null,
   "metadata": {},
   "outputs": [],
   "source": [
    "fig = go.Figure()\n",
    "\n",
    "groupby_label = new_data.groupby('status')['status'].count()\n",
    "\n",
    "fig.add_trace(go.Bar(\n",
    "    x=list(sorted(groupby_label.index)),\n",
    "    y=groupby_label.tolist(),\n",
    "    text=groupby_label.tolist(),\n",
    "    textposition='auto'\n",
    "))\n",
    "\n",
    "fig.update_layout(\n",
    "    title_text='Distribution of label within comments [NEW DATA]',\n",
    "    xaxis_title_text='Status',\n",
    "    yaxis_title_text='Frequency',\n",
    "    bargap=0.2,\n",
    "    bargroupgap=0.2)\n",
    "\n",
    "fig.show()"
   ]
  },
  {
   "cell_type": "code",
   "execution_count": null,
   "metadata": {},
   "outputs": [],
   "source": [
    "new_data = new_data[[\"cleaned_comment\",\"status_code\"]]\n",
    "new_data.rename(columns={\"cleaned_comment\": \"comment\", \"status_code\": \"status\"}, inplace=True)\n",
    "new_data.to_excel(\"full_cleaned_comment.xlsx\")\n",
    "new_data.head()"
   ]
  },
  {
   "cell_type": "code",
   "execution_count": 19,
   "metadata": {},
   "outputs": [
    {
     "name": "stderr",
     "output_type": "stream",
     "text": [
      "/tmp/ipykernel_22389/1046203210.py:2: SettingWithCopyWarning: \n",
      "A value is trying to be set on a copy of a slice from a DataFrame\n",
      "\n",
      "See the caveats in the documentation: https://pandas.pydata.org/pandas-docs/stable/user_guide/indexing.html#returning-a-view-versus-a-copy\n",
      "  new_data.rename(columns={\"cleaned_comment\": \"comment\", \"status\": \"status\"}, inplace=True)\n"
     ]
    },
    {
     "data": {
      "text/html": [
       "<div>\n",
       "<style scoped>\n",
       "    .dataframe tbody tr th:only-of-type {\n",
       "        vertical-align: middle;\n",
       "    }\n",
       "\n",
       "    .dataframe tbody tr th {\n",
       "        vertical-align: top;\n",
       "    }\n",
       "\n",
       "    .dataframe thead th {\n",
       "        text-align: right;\n",
       "    }\n",
       "</style>\n",
       "<table border=\"1\" class=\"dataframe\">\n",
       "  <thead>\n",
       "    <tr style=\"text-align: right;\">\n",
       "      <th></th>\n",
       "      <th>comment</th>\n",
       "      <th>status</th>\n",
       "    </tr>\n",
       "  </thead>\n",
       "  <tbody>\n",
       "    <tr>\n",
       "      <th>0</th>\n",
       "      <td>تا نباشد چوبتر فرمان نبرد گاو وخر این ضرب المث...</td>\n",
       "      <td>published</td>\n",
       "    </tr>\n",
       "    <tr>\n",
       "      <th>1</th>\n",
       "      <td>دولتی شش کلاسی همینه</td>\n",
       "      <td>published</td>\n",
       "    </tr>\n",
       "    <tr>\n",
       "      <th>2</th>\n",
       "      <td>اگر بی حجابی علت گرانی بود پس چرا در زمان حکوم...</td>\n",
       "      <td>rejected</td>\n",
       "    </tr>\n",
       "    <tr>\n",
       "      <th>3</th>\n",
       "      <td>خاک تو سرتون کنند که فقط ادعا دارید نه سواد و ...</td>\n",
       "      <td>published</td>\n",
       "    </tr>\n",
       "    <tr>\n",
       "      <th>4</th>\n",
       "      <td>دولت با 200 میلیون کردن قیمت پراید و دو تا سه ...</td>\n",
       "      <td>published</td>\n",
       "    </tr>\n",
       "  </tbody>\n",
       "</table>\n",
       "</div>"
      ],
      "text/plain": [
       "                                             comment     status\n",
       "0  تا نباشد چوبتر فرمان نبرد گاو وخر این ضرب المث...  published\n",
       "1                               دولتی شش کلاسی همینه  published\n",
       "2  اگر بی حجابی علت گرانی بود پس چرا در زمان حکوم...   rejected\n",
       "3  خاک تو سرتون کنند که فقط ادعا دارید نه سواد و ...  published\n",
       "4  دولت با 200 میلیون کردن قیمت پراید و دو تا سه ...  published"
      ]
     },
     "execution_count": 19,
     "metadata": {},
     "output_type": "execute_result"
    },
    {
     "ename": "",
     "evalue": "",
     "output_type": "error",
     "traceback": [
      "The Kernel crashed while executing code in the the current cell or a previous cell. Please review the code in the cell(s) to identify a possible cause of the failure. Click <a href='https://aka.ms/vscodeJupyterKernelCrash'>here</a> for more info. View Jupyter <a href='command:jupyter.viewOutput'>log</a> for further details."
     ]
    }
   ],
   "source": [
    "new_data = comment_df[[\"cleaned_comment\",\"status\"]]\n",
    "new_data.rename(columns={\"cleaned_comment\": \"comment\", \"status\": \"status\"}, inplace=True)\n",
    "new_data.to_csv(\"all_full_cleaned_comment.csv\")\n",
    "new_data.head()"
   ]
  }
 ],
 "metadata": {
  "kernelspec": {
   "display_name": "Python 3.8.10 ('comment-classification')",
   "language": "python",
   "name": "python3"
  },
  "language_info": {
   "codemirror_mode": {
    "name": "ipython",
    "version": 3
   },
   "file_extension": ".py",
   "mimetype": "text/x-python",
   "name": "python",
   "nbconvert_exporter": "python",
   "pygments_lexer": "ipython3",
   "version": "3.8.10"
  },
  "orig_nbformat": 4,
  "vscode": {
   "interpreter": {
    "hash": "08b54b589637f87373e8394536c11cb44a56dcb99faa188bb705919399e0b2bb"
   }
  }
 },
 "nbformat": 4,
 "nbformat_minor": 2
}
